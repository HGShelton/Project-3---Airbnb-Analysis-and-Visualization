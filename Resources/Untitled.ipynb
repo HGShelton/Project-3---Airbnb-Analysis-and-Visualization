{
 "cells": [
  {
   "cell_type": "code",
   "execution_count": 1,
   "id": "793eae04-df80-42fa-8fd7-3a683416d6db",
   "metadata": {},
   "outputs": [],
   "source": [
    "import pandas as pd"
   ]
  },
  {
   "cell_type": "code",
   "execution_count": 2,
   "id": "7f984bd4-a726-46e3-8266-b1ea3d60902c",
   "metadata": {},
   "outputs": [],
   "source": [
    "df = pd.read_csv('listings.csv')"
   ]
  },
  {
   "cell_type": "code",
   "execution_count": 3,
   "id": "5f639e2b-d89a-44f4-b23c-daf853425133",
   "metadata": {},
   "outputs": [],
   "source": [
    "df['coordinates'] = df['latitude'].astype(str) + ',' + df['longitude'].astype(str)"
   ]
  },
  {
   "cell_type": "code",
   "execution_count": 5,
   "id": "cefeb097-89f0-475e-b831-bba445586b7b",
   "metadata": {},
   "outputs": [
    {
     "name": "stdout",
     "output_type": "stream",
     "text": [
      "                       id                                              name  \\\n",
      "0                    3781                         HARBORSIDE-Walk to subway   \n",
      "1                    5506    ** Fort Hill Inn Private! Minutes to center!**   \n",
      "2                    6695     Fort Hill Inn *Sunny* 1 bedroom, condo duplex   \n",
      "3                    8789               Curved Glass Studio/1bd facing Park   \n",
      "4                   10811  Back Bay Apt Studio-3 blocks to Pru center & \"T\"   \n",
      "...                   ...                                               ...   \n",
      "4320  1181310640039457019        The Chester: Modern Luxury, Historic Charm   \n",
      "4321  1181310920532325010         The Chester:  Urban Luxury, Modern Design   \n",
      "4322  1181311064422167794     The Chester: Modern, Cool, Heart Of South End   \n",
      "4323  1182535715185750063                                Luxury one bedroom   \n",
      "4324  1183366210963015944       Large 4 Bedroom apartments, 2RD FL/Brighton   \n",
      "\n",
      "        host_id host_name  neighbourhood_group neighbourhood   latitude  \\\n",
      "0          4804     Frank                  NaN   East Boston  42.364130   \n",
      "1          8229     Terry                  NaN       Roxbury  42.328440   \n",
      "2          8229     Terry                  NaN       Roxbury  42.328020   \n",
      "3         26988      Anne                  NaN   Beacon Hill  42.358670   \n",
      "4         38997  Michelle                  NaN      Back Bay  42.351730   \n",
      "...         ...       ...                  ...           ...        ...   \n",
      "4320   43613912      Drew                  NaN       Roxbury  42.339042   \n",
      "4321   43613912      Drew                  NaN       Roxbury  42.339042   \n",
      "4322   43613912      Drew                  NaN       Roxbury  42.339042   \n",
      "4323   28929296      Seif                  NaN     South End  42.345838   \n",
      "4324  426546484      Mike                  NaN      Brighton  42.343210   \n",
      "\n",
      "      longitude        room_type  price  minimum_nights  number_of_reviews  \\\n",
      "0    -71.029910  Entire home/apt  125.0              29                 25   \n",
      "1    -71.095810  Entire home/apt  139.0               3                123   \n",
      "2    -71.093870  Entire home/apt  179.0               3                128   \n",
      "3    -71.063070  Entire home/apt   92.0              91                 29   \n",
      "4    -71.086850  Entire home/apt  130.0              91                  9   \n",
      "...         ...              ...    ...             ...                ...   \n",
      "4320 -71.080357  Entire home/apt  169.0               2                  0   \n",
      "4321 -71.080357  Entire home/apt  217.0               2                  0   \n",
      "4322 -71.080357  Entire home/apt  213.0               2                  0   \n",
      "4323 -71.064972  Entire home/apt  250.0               1                  0   \n",
      "4324 -71.146980  Entire home/apt  350.0               1                  0   \n",
      "\n",
      "     last_review  reviews_per_month  calculated_host_listings_count  \\\n",
      "0     2023-12-11               0.23                               1   \n",
      "1     2024-04-24               0.66                              10   \n",
      "2     2024-04-16               0.71                              10   \n",
      "3     2024-05-15               0.24                               8   \n",
      "4     2019-07-22               0.09                              13   \n",
      "...          ...                ...                             ...   \n",
      "4320         NaN                NaN                              10   \n",
      "4321         NaN                NaN                              10   \n",
      "4322         NaN                NaN                              10   \n",
      "4323         NaN                NaN                               6   \n",
      "4324         NaN                NaN                               1   \n",
      "\n",
      "      availability_365  number_of_reviews_ltm     license  \\\n",
      "0                  317                      1         NaN   \n",
      "1                  112                      5  STR-490093   \n",
      "2                   79                      4  STR-491702   \n",
      "3                  101                      3         NaN   \n",
      "4                  364                      0         NaN   \n",
      "...                ...                    ...         ...   \n",
      "4320                32                      0  STR-565048   \n",
      "4321               159                      0  STR-565049   \n",
      "4322               158                      0  STR-565053   \n",
      "4323                46                      0  STR-359412   \n",
      "4324               365                      0  STR-460830   \n",
      "\n",
      "                               coordinates  \n",
      "0                       42.36413,-71.02991  \n",
      "1                       42.32844,-71.09581  \n",
      "2                       42.32802,-71.09387  \n",
      "3                       42.35867,-71.06307  \n",
      "4                       42.35173,-71.08685  \n",
      "...                                    ...  \n",
      "4320                 42.339042,-71.0803574  \n",
      "4321                 42.339042,-71.0803574  \n",
      "4322                 42.339042,-71.0803574  \n",
      "4323  42.34583822057535,-71.06497242755782  \n",
      "4324                    42.34321,-71.14698  \n",
      "\n",
      "[4325 rows x 19 columns]\n"
     ]
    }
   ],
   "source": [
    "print(df)"
   ]
  },
  {
   "cell_type": "code",
   "execution_count": 6,
   "id": "51594715-3afb-48b0-89bf-eecf22d200a3",
   "metadata": {},
   "outputs": [],
   "source": [
    "columns_to_drop = ['latitude', 'longitude', 'host_id', 'host_name', 'neighbourhood_group', 'last_review', 'reviews_per_month', 'calculated_host_listings_count', 'number_of_reviews_ltm', 'license']"
   ]
  },
  {
   "cell_type": "code",
   "execution_count": 7,
   "id": "12d049a7-125d-4f06-b620-876b40a07216",
   "metadata": {},
   "outputs": [],
   "source": [
    "df.drop(columns=columns_to_drop, inplace=True)"
   ]
  },
  {
   "cell_type": "code",
   "execution_count": 8,
   "id": "35e3915d-281f-4ece-9f39-0175d12b17b5",
   "metadata": {},
   "outputs": [
    {
     "name": "stdout",
     "output_type": "stream",
     "text": [
      "                       id                                              name  \\\n",
      "0                    3781                         HARBORSIDE-Walk to subway   \n",
      "1                    5506    ** Fort Hill Inn Private! Minutes to center!**   \n",
      "2                    6695     Fort Hill Inn *Sunny* 1 bedroom, condo duplex   \n",
      "3                    8789               Curved Glass Studio/1bd facing Park   \n",
      "4                   10811  Back Bay Apt Studio-3 blocks to Pru center & \"T\"   \n",
      "...                   ...                                               ...   \n",
      "4320  1181310640039457019        The Chester: Modern Luxury, Historic Charm   \n",
      "4321  1181310920532325010         The Chester:  Urban Luxury, Modern Design   \n",
      "4322  1181311064422167794     The Chester: Modern, Cool, Heart Of South End   \n",
      "4323  1182535715185750063                                Luxury one bedroom   \n",
      "4324  1183366210963015944       Large 4 Bedroom apartments, 2RD FL/Brighton   \n",
      "\n",
      "     neighbourhood        room_type  price  minimum_nights  number_of_reviews  \\\n",
      "0      East Boston  Entire home/apt  125.0              29                 25   \n",
      "1          Roxbury  Entire home/apt  139.0               3                123   \n",
      "2          Roxbury  Entire home/apt  179.0               3                128   \n",
      "3      Beacon Hill  Entire home/apt   92.0              91                 29   \n",
      "4         Back Bay  Entire home/apt  130.0              91                  9   \n",
      "...            ...              ...    ...             ...                ...   \n",
      "4320       Roxbury  Entire home/apt  169.0               2                  0   \n",
      "4321       Roxbury  Entire home/apt  217.0               2                  0   \n",
      "4322       Roxbury  Entire home/apt  213.0               2                  0   \n",
      "4323     South End  Entire home/apt  250.0               1                  0   \n",
      "4324      Brighton  Entire home/apt  350.0               1                  0   \n",
      "\n",
      "      availability_365                           coordinates  \n",
      "0                  317                    42.36413,-71.02991  \n",
      "1                  112                    42.32844,-71.09581  \n",
      "2                   79                    42.32802,-71.09387  \n",
      "3                  101                    42.35867,-71.06307  \n",
      "4                  364                    42.35173,-71.08685  \n",
      "...                ...                                   ...  \n",
      "4320                32                 42.339042,-71.0803574  \n",
      "4321               159                 42.339042,-71.0803574  \n",
      "4322               158                 42.339042,-71.0803574  \n",
      "4323                46  42.34583822057535,-71.06497242755782  \n",
      "4324               365                    42.34321,-71.14698  \n",
      "\n",
      "[4325 rows x 9 columns]\n"
     ]
    }
   ],
   "source": [
    "print(df)"
   ]
  },
  {
   "cell_type": "code",
   "execution_count": 12,
   "id": "ce1b7951-6541-48df-a8f6-2f146a3dda27",
   "metadata": {},
   "outputs": [],
   "source": [
    "df.to_csv('cleaned_listings.csv', index=False)"
   ]
  },
  {
   "cell_type": "code",
   "execution_count": null,
   "id": "b44544b6-6d15-480c-957b-8bd907b14da4",
   "metadata": {},
   "outputs": [],
   "source": []
  }
 ],
 "metadata": {
  "kernelspec": {
   "display_name": "Python 3 (ipykernel)",
   "language": "python",
   "name": "python3"
  },
  "language_info": {
   "codemirror_mode": {
    "name": "ipython",
    "version": 3
   },
   "file_extension": ".py",
   "mimetype": "text/x-python",
   "name": "python",
   "nbconvert_exporter": "python",
   "pygments_lexer": "ipython3",
   "version": "3.10.14"
  }
 },
 "nbformat": 4,
 "nbformat_minor": 5
}
