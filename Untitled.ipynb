{
 "cells": [
  {
   "cell_type": "code",
   "execution_count": null,
   "id": "3064a98e-206f-485b-8499-0032d2960de6",
   "metadata": {},
   "outputs": [],
   "source": [
    "pandas import as pd"
   ]
  },
  {
   "cell_type": "code",
   "execution_count": null,
   "id": "76c956cd-2a41-404f-8857-29fdd2357a7b",
   "metadata": {},
   "outputs": [],
   "source": []
  },
  {
   "cell_type": "code",
   "execution_count": null,
   "id": "d542e01f-187d-46a2-a8c4-c3db6ddb954f",
   "metadata": {},
   "outputs": [],
   "source": []
  },
  {
   "cell_type": "code",
   "execution_count": null,
   "id": "95f12d80-cae5-46de-9357-b4179873c072",
   "metadata": {},
   "outputs": [],
   "source": []
  },
  {
   "cell_type": "code",
   "execution_count": null,
   "id": "eb1ab339-6cd0-44f8-9457-73ea9f8a9f89",
   "metadata": {},
   "outputs": [],
   "source": []
  },
  {
   "cell_type": "code",
   "execution_count": null,
   "id": "2dcc9ac7-5049-4ee5-b84a-2a5525550eb9",
   "metadata": {},
   "outputs": [],
   "source": []
  },
  {
   "cell_type": "code",
   "execution_count": null,
   "id": "f0588e83-4307-4443-93ae-b7dd76f42eb0",
   "metadata": {},
   "outputs": [],
   "source": []
  },
  {
   "cell_type": "code",
   "execution_count": null,
   "id": "2098c9ae-7af6-4979-83f0-5e08f6c7d1db",
   "metadata": {},
   "outputs": [],
   "source": []
  },
  {
   "cell_type": "code",
   "execution_count": null,
   "id": "e249f8e0-b47c-4346-98b2-ede0675ddf29",
   "metadata": {},
   "outputs": [],
   "source": []
  }
 ],
 "metadata": {
  "kernelspec": {
   "display_name": "Python 3 (ipykernel)",
   "language": "python",
   "name": "python3"
  },
  "language_info": {
   "codemirror_mode": {
    "name": "ipython",
    "version": 3
   },
   "file_extension": ".py",
   "mimetype": "text/x-python",
   "name": "python",
   "nbconvert_exporter": "python",
   "pygments_lexer": "ipython3",
   "version": "3.10.14"
  }
 },
 "nbformat": 4,
 "nbformat_minor": 5
}
